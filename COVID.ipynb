{
 "cells": [
  {
   "cell_type": "code",
   "execution_count": 180,
   "metadata": {},
   "outputs": [],
   "source": [
    "import pandas as pd\n",
    "import numpy as np\n",
    "import datetime\n",
    "from sklearn.linear_model import LinearRegression\n",
    "\n",
    "confirmed_cases=pd.read_csv('csse_covid_19_data/csse_covid_19_time_series/time_series_19-covid-Confirmed.csv')\n",
    "deaths = pd.read_csv('csse_covid_19_data/csse_covid_19_time_series/time_series_19-covid-Deaths.csv')\n",
    "\n",
    "from bokeh.plotting import show, output_notebook, figure\n",
    "from bokeh.models import ColumnDataSource, LogScale, DatetimeAxis, DatetimeTicker, DaysTicker,Label\n",
    "output_notebook()\n",
    "\n",
    "cases = confirmed_cases.groupby('Country/Region').sum().iloc[:,2:].transpose()\n",
    "cases['total'] = cases.sum(axis=1)\n",
    "\n",
    "cases.index=pd.to_datetime(cases.index)\n",
    "cases.index.name='Date'\n",
    "from sklearn.linear_model import LinearRegression\n",
    "\n",
    "cases = cases/100\n",
    "source = ColumnDataSource(cases)\n",
    "recent_US = np.log(cases['US'][datetime.date.today()-datetime.timedelta(days=8):])\n",
    "L = LinearRegression().fit(np.array(range(len(recent_US))).reshape(-1,1),recent_US)\n",
    "percent_rate = 100*(np.exp(L.coef_)-1)[0]\n",
    "\n",
    "F = figure(width=600,height=600,x_axis_type='datetime',y_axis_type='log',y_range=(.1,2000),x_range=(datetime.datetime(2020,2,1),datetime.datetime(2020,4,1)))\n",
    "\n",
    "\n",
    "F.line(x='Date',y='US',source=source,line_width=3,color='darkblue',legend_label='US')\n",
    "F.line(x='Date',y='Italy',source=source,line_width=3,color='green',legend_label='Italy')\n",
    "F.line(x='Date',y='Germany',source=source, line_width=3,color='green',line_dash='dotted',legend_label='Germany')\n",
    "F.line(x='Date',y='China',source=source,line_width=3,color='orange',legend_label='China')\n",
    "#F.line(x='Date',y='predicted',color='red',line_width=3,source=source,line_dash='dotted')\n",
    "F.line(x='Date',y='total',color='black',line_width=3,line_dash='dashed',source=source,legend_label='World')\n",
    "F.title.text = \"COVID-19 Confirmed Cases (https://github.com/CSSEGISandData/COVID-19)\"\n",
    "F.add_layout(Label(text_font_style='bold',text_font_size=\"10pt\",x=300,y=100,x_units='screen',y_units='screen',text='US Daily Growth Rate: {:.0f} %'.format(percent_rate)))\n",
    "F.yaxis.axis_label = \"100's of cases (log scale)\"\n",
    "F.xaxis.axis_label=\"Date\"\n",
    "F.background_fill_color=\"#EEEEEE\"\n",
    "F.xgrid.grid_line_color=\"white\"\n",
    "F.ygrid.grid_line_color=\"white\"\n",
    "show(F)"
   ]
  },
  {
   "cell_type": "code",
   "execution_count": null,
   "metadata": {},
   "outputs": [],
   "source": []
  }
 ],
 "metadata": {
  "kernelspec": {
   "display_name": "Python 3",
   "language": "python",
   "name": "python3"
  },
  "language_info": {
   "codemirror_mode": {
    "name": "ipython",
    "version": 3
   },
   "file_extension": ".py",
   "mimetype": "text/x-python",
   "name": "python",
   "nbconvert_exporter": "python",
   "pygments_lexer": "ipython3",
   "version": "3.8.1"
  }
 },
 "nbformat": 4,
 "nbformat_minor": 4
}
